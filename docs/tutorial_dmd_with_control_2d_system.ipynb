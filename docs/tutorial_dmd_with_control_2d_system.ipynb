{
 "cells": [
  {
   "cell_type": "markdown",
   "metadata": {
    "collapsed": true,
    "pycharm": {
     "name": "#%% md\n"
    }
   },
   "source": [
    "# Dynamic mode decomposition with control on a 2D linear system \n",
    "\n",
    "Dynamic mode decomposition with control (DMDc) aims to disambiguate the effect of control/actuation\n",
    "from the unforced dynamics.\n",
    "We apply DMDc to a low-dimensional, linear system\n",
    "(this is example in Sec. 4 in Proctor et al., _\"Dynamic Mode Decomposition with Control\"_, SIAM 2016).\n",
    "\n",
    "$$x_{k+1} =\\begin{bmatrix} 1.5 & 0\\\\ 0 & 0.1 \\end{bmatrix}x_k + \\begin{bmatrix} 1\\\\ 0 \\end{bmatrix} u_k$$"
   ]
  },
  {
   "cell_type": "markdown",
   "metadata": {
    "pycharm": {
     "name": "#%% md\n"
    }
   },
   "source": [
    "We first import the pyKoopman package and other packages for plotting and matrix manipulation."
   ]
  },
  {
   "cell_type": "code",
   "execution_count": 1,
   "metadata": {
    "ExecuteTime": {
     "end_time": "2024-11-05T23:30:53.404427680Z",
     "start_time": "2024-11-05T23:30:53.361204829Z"
    }
   },
   "outputs": [],
   "source": [
    "import sys\n",
    "sys.path.append('../src')"
   ]
  },
  {
   "cell_type": "code",
   "execution_count": 2,
   "metadata": {
    "pycharm": {
     "name": "#%%\n"
    },
    "ExecuteTime": {
     "end_time": "2024-11-05T23:30:56.237884913Z",
     "start_time": "2024-11-05T23:30:53.361451347Z"
    }
   },
   "outputs": [],
   "source": [
    "%matplotlib inline\n",
    "import matplotlib.pyplot as plt\n",
    "import numpy as np\n",
    "import warnings\n",
    "warnings.filterwarnings('ignore')\n",
    "\n",
    "import matplotlib.cm as cm\n",
    "\n",
    "import pykoopman as pk"
   ]
  },
  {
   "cell_type": "markdown",
   "metadata": {},
   "source": [
    "Define state and control matrices of the linear control system and collect data."
   ]
  },
  {
   "cell_type": "code",
   "execution_count": 3,
   "metadata": {
    "pycharm": {
     "name": "#%%\n"
    },
    "ExecuteTime": {
     "end_time": "2024-11-05T23:30:56.243317366Z",
     "start_time": "2024-11-05T23:30:56.239669070Z"
    }
   },
   "outputs": [
    {
     "name": "stdout",
     "output_type": "stream",
     "text": [
      "X1 =  [[4.000000e+00 7.000000e+00]\n",
      " [2.000000e+00 7.000000e-01]\n",
      " [1.000000e+00 7.000000e-02]\n",
      " [5.000000e-01 7.000000e-03]\n",
      " [2.500000e-01 7.000000e-04]\n",
      " [3.750000e-01 7.000000e-05]\n",
      " [1.062500e+00 7.000000e-06]\n",
      " [2.593750e+00 7.000000e-07]\n",
      " [6.890625e+00 7.000000e-08]]\n",
      "X2 =  [[2.00000000e+00 7.00000000e-01]\n",
      " [1.00000000e+00 7.00000000e-02]\n",
      " [5.00000000e-01 7.00000000e-03]\n",
      " [2.50000000e-01 7.00000000e-04]\n",
      " [3.75000000e-01 7.00000000e-05]\n",
      " [1.06250000e+00 7.00000000e-06]\n",
      " [2.59375000e+00 7.00000000e-07]\n",
      " [6.89062500e+00 7.00000000e-08]\n",
      " [1.53359375e+01 7.00000000e-09]]\n",
      "C =  [[-4. ]\n",
      " [-2. ]\n",
      " [-1. ]\n",
      " [-0.5]\n",
      " [ 0. ]\n",
      " [ 0.5]\n",
      " [ 1. ]\n",
      " [ 3. ]\n",
      " [ 5. ]]\n"
     ]
    }
   ],
   "source": [
    "from pykoopman.common  import advance_linear_system\n",
    "\n",
    "A = np.array([[1.5, 0],[0, 0.1]])\n",
    "B = np.array([[1],[0]])\n",
    "\n",
    "x0 = np.array([4,7])\n",
    "u = np.array([-4, -2, -1, -0.5, 0, 0.5, 1, 3, 5])\n",
    "n = len(u)+1\n",
    "x,_ = advance_linear_system(x0,u,n,A,B)\n",
    "X1 = x[:-1,:]\n",
    "X2 = x[1:,:]\n",
    "C = u[:,np.newaxis]\n",
    "print('X1 = ', X1)\n",
    "print('X2 = ', X2)\n",
    "print('C = ', C)"
   ]
  },
  {
   "cell_type": "markdown",
   "metadata": {
    "pycharm": {
     "name": "#%% md\n"
    }
   },
   "source": [
    "Apply first the standard DMD to the state data collected from the controlled system."
   ]
  },
  {
   "cell_type": "code",
   "execution_count": 4,
   "metadata": {
    "pycharm": {
     "name": "#%%\n"
    },
    "ExecuteTime": {
     "end_time": "2024-11-05T23:30:56.247588364Z",
     "start_time": "2024-11-05T23:30:56.244625319Z"
    }
   },
   "outputs": [
    {
     "name": "stdout",
     "output_type": "stream",
     "text": [
      "A =  [[ 2.17160989e+00 -9.95420579e-01]\n",
      " [-1.58023594e-17  1.00000000e-01]]\n"
     ]
    }
   ],
   "source": [
    "U, s, Vh = np.linalg.svd(X1.T, full_matrices=False)\n",
    "Aest = np.dot(X2.T,np.dot(Vh.T*(s**(-1)),U.T))\n",
    "print('A = ', Aest)"
   ]
  },
  {
   "cell_type": "markdown",
   "metadata": {},
   "source": [
    "This is obviously not correct.\n",
    "So let's apply DMDc on the data from the controlled system.\n",
    "We assume for now that the control matrix B is known."
   ]
  },
  {
   "cell_type": "code",
   "execution_count": 5,
   "metadata": {
    "pycharm": {
     "name": "#%%\n"
    },
    "ExecuteTime": {
     "end_time": "2024-11-05T23:30:56.256597436Z",
     "start_time": "2024-11-05T23:30:56.250069844Z"
    }
   },
   "outputs": [
    {
     "data": {
      "text/plain": "Koopman(observables=Identity(),\n        regressor=DMDc(input_control_matrix=array([[1],\n       [0]]),\n                       svd_output_rank=3, svd_rank=3))",
      "text/html": "<style>#sk-container-id-1 {color: black;background-color: white;}#sk-container-id-1 pre{padding: 0;}#sk-container-id-1 div.sk-toggleable {background-color: white;}#sk-container-id-1 label.sk-toggleable__label {cursor: pointer;display: block;width: 100%;margin-bottom: 0;padding: 0.3em;box-sizing: border-box;text-align: center;}#sk-container-id-1 label.sk-toggleable__label-arrow:before {content: \"▸\";float: left;margin-right: 0.25em;color: #696969;}#sk-container-id-1 label.sk-toggleable__label-arrow:hover:before {color: black;}#sk-container-id-1 div.sk-estimator:hover label.sk-toggleable__label-arrow:before {color: black;}#sk-container-id-1 div.sk-toggleable__content {max-height: 0;max-width: 0;overflow: hidden;text-align: left;background-color: #f0f8ff;}#sk-container-id-1 div.sk-toggleable__content pre {margin: 0.2em;color: black;border-radius: 0.25em;background-color: #f0f8ff;}#sk-container-id-1 input.sk-toggleable__control:checked~div.sk-toggleable__content {max-height: 200px;max-width: 100%;overflow: auto;}#sk-container-id-1 input.sk-toggleable__control:checked~label.sk-toggleable__label-arrow:before {content: \"▾\";}#sk-container-id-1 div.sk-estimator input.sk-toggleable__control:checked~label.sk-toggleable__label {background-color: #d4ebff;}#sk-container-id-1 div.sk-label input.sk-toggleable__control:checked~label.sk-toggleable__label {background-color: #d4ebff;}#sk-container-id-1 input.sk-hidden--visually {border: 0;clip: rect(1px 1px 1px 1px);clip: rect(1px, 1px, 1px, 1px);height: 1px;margin: -1px;overflow: hidden;padding: 0;position: absolute;width: 1px;}#sk-container-id-1 div.sk-estimator {font-family: monospace;background-color: #f0f8ff;border: 1px dotted black;border-radius: 0.25em;box-sizing: border-box;margin-bottom: 0.5em;}#sk-container-id-1 div.sk-estimator:hover {background-color: #d4ebff;}#sk-container-id-1 div.sk-parallel-item::after {content: \"\";width: 100%;border-bottom: 1px solid gray;flex-grow: 1;}#sk-container-id-1 div.sk-label:hover label.sk-toggleable__label {background-color: #d4ebff;}#sk-container-id-1 div.sk-serial::before {content: \"\";position: absolute;border-left: 1px solid gray;box-sizing: border-box;top: 0;bottom: 0;left: 50%;z-index: 0;}#sk-container-id-1 div.sk-serial {display: flex;flex-direction: column;align-items: center;background-color: white;padding-right: 0.2em;padding-left: 0.2em;position: relative;}#sk-container-id-1 div.sk-item {position: relative;z-index: 1;}#sk-container-id-1 div.sk-parallel {display: flex;align-items: stretch;justify-content: center;background-color: white;position: relative;}#sk-container-id-1 div.sk-item::before, #sk-container-id-1 div.sk-parallel-item::before {content: \"\";position: absolute;border-left: 1px solid gray;box-sizing: border-box;top: 0;bottom: 0;left: 50%;z-index: -1;}#sk-container-id-1 div.sk-parallel-item {display: flex;flex-direction: column;z-index: 1;position: relative;background-color: white;}#sk-container-id-1 div.sk-parallel-item:first-child::after {align-self: flex-end;width: 50%;}#sk-container-id-1 div.sk-parallel-item:last-child::after {align-self: flex-start;width: 50%;}#sk-container-id-1 div.sk-parallel-item:only-child::after {width: 0;}#sk-container-id-1 div.sk-dashed-wrapped {border: 1px dashed gray;margin: 0 0.4em 0.5em 0.4em;box-sizing: border-box;padding-bottom: 0.4em;background-color: white;}#sk-container-id-1 div.sk-label label {font-family: monospace;font-weight: bold;display: inline-block;line-height: 1.2em;}#sk-container-id-1 div.sk-label-container {text-align: center;}#sk-container-id-1 div.sk-container {/* jupyter's `normalize.less` sets `[hidden] { display: none; }` but bootstrap.min.css set `[hidden] { display: none !important; }` so we also need the `!important` here to be able to override the default hidden behavior on the sphinx rendered scikit-learn.org. See: https://github.com/scikit-learn/scikit-learn/issues/21755 */display: inline-block !important;position: relative;}#sk-container-id-1 div.sk-text-repr-fallback {display: none;}</style><div id=\"sk-container-id-1\" class=\"sk-top-container\"><div class=\"sk-text-repr-fallback\"><pre>Koopman(observables=Identity(),\n        regressor=DMDc(input_control_matrix=array([[1],\n       [0]]),\n                       svd_output_rank=3, svd_rank=3))</pre><b>In a Jupyter environment, please rerun this cell to show the HTML representation or trust the notebook. <br />On GitHub, the HTML representation is unable to render, please try loading this page with nbviewer.org.</b></div><div class=\"sk-container\" hidden><div class=\"sk-item sk-dashed-wrapped\"><div class=\"sk-label-container\"><div class=\"sk-label sk-toggleable\"><input class=\"sk-toggleable__control sk-hidden--visually\" id=\"sk-estimator-id-1\" type=\"checkbox\" ><label for=\"sk-estimator-id-1\" class=\"sk-toggleable__label sk-toggleable__label-arrow\">Koopman</label><div class=\"sk-toggleable__content\"><pre>Koopman(observables=Identity(),\n        regressor=DMDc(input_control_matrix=array([[1],\n       [0]]),\n                       svd_output_rank=3, svd_rank=3))</pre></div></div></div><div class=\"sk-parallel\"><div class=\"sk-parallel-item\"><div class=\"sk-item\"><div class=\"sk-label-container\"><div class=\"sk-label sk-toggleable\"><input class=\"sk-toggleable__control sk-hidden--visually\" id=\"sk-estimator-id-2\" type=\"checkbox\" ><label for=\"sk-estimator-id-2\" class=\"sk-toggleable__label sk-toggleable__label-arrow\">observables: Identity</label><div class=\"sk-toggleable__content\"><pre>Identity()</pre></div></div></div><div class=\"sk-serial\"><div class=\"sk-item\"><div class=\"sk-estimator sk-toggleable\"><input class=\"sk-toggleable__control sk-hidden--visually\" id=\"sk-estimator-id-3\" type=\"checkbox\" ><label for=\"sk-estimator-id-3\" class=\"sk-toggleable__label sk-toggleable__label-arrow\">Identity</label><div class=\"sk-toggleable__content\"><pre>Identity()</pre></div></div></div></div></div></div><div class=\"sk-parallel-item\"><div class=\"sk-item\"><div class=\"sk-label-container\"><div class=\"sk-label sk-toggleable\"><input class=\"sk-toggleable__control sk-hidden--visually\" id=\"sk-estimator-id-4\" type=\"checkbox\" ><label for=\"sk-estimator-id-4\" class=\"sk-toggleable__label sk-toggleable__label-arrow\">regressor: DMDc</label><div class=\"sk-toggleable__content\"><pre>DMDc(input_control_matrix=array([[1],\n       [0]]), svd_output_rank=3,\n     svd_rank=3)</pre></div></div></div><div class=\"sk-serial\"><div class=\"sk-item\"><div class=\"sk-estimator sk-toggleable\"><input class=\"sk-toggleable__control sk-hidden--visually\" id=\"sk-estimator-id-5\" type=\"checkbox\" ><label for=\"sk-estimator-id-5\" class=\"sk-toggleable__label sk-toggleable__label-arrow\">DMDc</label><div class=\"sk-toggleable__content\"><pre>DMDc(input_control_matrix=array([[1],\n       [0]]), svd_output_rank=3,\n     svd_rank=3)</pre></div></div></div></div></div></div></div></div></div></div>"
     },
     "execution_count": 5,
     "metadata": {},
     "output_type": "execute_result"
    }
   ],
   "source": [
    "DMDc = pk.regression.DMDc(svd_rank=3, input_control_matrix=B)\n",
    "model = pk.Koopman(regressor=DMDc)\n",
    "model.fit(x,u=C)"
   ]
  },
  {
   "cell_type": "code",
   "execution_count": 6,
   "metadata": {
    "ExecuteTime": {
     "end_time": "2024-11-05T23:30:56.298719967Z",
     "start_time": "2024-11-05T23:30:56.257665924Z"
    }
   },
   "outputs": [
    {
     "name": "stdout",
     "output_type": "stream",
     "text": [
      "[[1.09412963 0.63520687]\n",
      " [0.63520687 0.50587037]]\n"
     ]
    },
    {
     "data": {
      "text/plain": "False"
     },
     "execution_count": 6,
     "metadata": {},
     "output_type": "execute_result"
    }
   ],
   "source": [
    "Aest = model.A[:,:2]\n",
    "Best = model.A[:,-1:]\n",
    "\n",
    "print(Aest)\n",
    "np.allclose(A,Aest)"
   ]
  },
  {
   "cell_type": "markdown",
   "metadata": {
    "pycharm": {
     "name": "#%% md\n"
    }
   },
   "source": [
    "This yields the correct system matrix. Let's further assume B is also unknown."
   ]
  },
  {
   "cell_type": "code",
   "execution_count": 7,
   "metadata": {
    "pycharm": {
     "name": "#%%\n"
    },
    "ExecuteTime": {
     "end_time": "2024-11-05T23:30:56.299520346Z",
     "start_time": "2024-11-05T23:30:56.298391473Z"
    }
   },
   "outputs": [],
   "source": [
    "DMDc = pk.regression.DMDc(svd_rank=3)\n",
    "\n",
    "model = pk.Koopman(regressor=DMDc)\n",
    "model.fit(x,u=C)\n",
    "Aest = model.ur @ model.A @ model.ur.T\n",
    "\n",
    "Best = model.ur @ model.B\n",
    "\n",
    "assert np.allclose(B,Best)\n",
    "assert np.allclose(A,Aest)"
   ]
  },
  {
   "cell_type": "markdown",
   "metadata": {
    "pycharm": {
     "name": "#%% md\n"
    }
   },
   "source": [
    "Now we can simulate the system using the learned DMDc model\n",
    "and compare with the true solution."
   ]
  },
  {
   "cell_type": "code",
   "execution_count": 8,
   "metadata": {
    "pycharm": {
     "name": "#%%\n"
    },
    "ExecuteTime": {
     "end_time": "2024-11-05T23:30:56.545632323Z",
     "start_time": "2024-11-05T23:30:56.298583067Z"
    }
   },
   "outputs": [
    {
     "data": {
      "text/plain": "<matplotlib.legend.Legend at 0x75ab77169ff0>"
     },
     "execution_count": 8,
     "metadata": {},
     "output_type": "execute_result"
    },
    {
     "data": {
      "text/plain": "<Figure size 1200x300 with 2 Axes>",
      "image/png": "[encoded data removed]"
     },
     "metadata": {},
     "output_type": "display_data"
    }
   ],
   "source": [
    "xpred = model.simulate(x[0,:], C, n_steps=n-1)\n",
    "\n",
    "fig,ax = plt.subplots(1,2,figsize=(12, 3))\n",
    "\n",
    "ax[0].plot(np.linspace(0,n-1,n),x[:,0],'-bs', label='True',markersize=10)\n",
    "ax[1].plot(np.linspace(0,n-1,n),x[:,1],'-bs',markersize=10)\n",
    "ax[0].plot(np.linspace(1,n-1,n-1),xpred[:,0],'--or', label='DMDc',markersize=5)\n",
    "ax[1].plot(np.linspace(1,n-1,n-1),xpred[:,1],'--or',markersize=5)\n",
    "\n",
    "ax[0].set(ylabel=r'$x_1$', xlabel=r'steps $k$')\n",
    "ax[1].set(ylabel=r'$x_2$', xlabel=r'steps $k$')\n",
    "\n",
    "ax[0].legend()\n"
   ]
  },
  {
   "cell_type": "code",
   "execution_count": 8,
   "metadata": {
    "pycharm": {
     "name": "#%%\n"
    },
    "ExecuteTime": {
     "end_time": "2024-11-05T23:30:56.596331746Z",
     "start_time": "2024-11-05T23:30:56.545018047Z"
    }
   },
   "outputs": [],
   "source": [
    "\n"
   ]
  }
 ],
 "metadata": {
  "kernelspec": {
   "display_name": "Python 3 (ipykernel)",
   "language": "python",
   "name": "python3"
  },
  "language_info": {
   "codemirror_mode": {
    "name": "ipython",
    "version": 3
   },
   "file_extension": ".py",
   "mimetype": "text/x-python",
   "name": "python",
   "nbconvert_exporter": "python",
   "pygments_lexer": "ipython3",
   "version": "3.10.11"
  },
  "toc": {
   "base_numbering": 1,
   "nav_menu": {},
   "number_sections": true,
   "sideBar": true,
   "skip_h1_title": false,
   "title_cell": "Table of Contents",
   "title_sidebar": "Contents",
   "toc_cell": false,
   "toc_position": {},
   "toc_section_display": true,
   "toc_window_display": false
  }
 },
 "nbformat": 4,
 "nbformat_minor": 4
}
